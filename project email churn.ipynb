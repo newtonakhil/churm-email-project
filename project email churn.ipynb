{
 "cells": [
  {
   "cell_type": "markdown",
   "metadata": {},
   "source": [
    "# churn email project\n",
    "\n"
   ]
  },
  {
   "cell_type": "code",
   "execution_count": 12,
   "metadata": {},
   "outputs": [
    {
     "data": {
      "text/plain": [
       "1909"
      ]
     },
     "execution_count": 12,
     "metadata": {},
     "output_type": "execute_result"
    }
   ],
   "source": [
    "def number_of_lines():\n",
    "    fhand=open(\"mbox-short.txt\")\n",
    "    inp=fhand.read()\n",
    "    count=0\n",
    "    for line in inp:\n",
    "        if line==\"\\n\":\n",
    "            count +=1\n",
    "    return(count)\n",
    "        \n",
    "        \n",
    "    \n",
    "        \n",
    "    \n",
    "number_of_lines()"
   ]
  },
  {
   "cell_type": "code",
   "execution_count": 13,
   "metadata": {},
   "outputs": [
    {
     "data": {
      "text/plain": [
       "27"
      ]
     },
     "execution_count": 13,
     "metadata": {},
     "output_type": "execute_result"
    }
   ],
   "source": [
    "def count_number_of_lines():\n",
    "    fhand=open(\"mbox-short.txt\")\n",
    "    count=0\n",
    "    for line in fhand:\n",
    "        line=line.strip()\n",
    "        if line.startswith(\"Subject:\"):\n",
    "            count+=1\n",
    "    return(count)\n",
    "    \n",
    "    \n",
    "count_number_of_lines()"
   ]
  },
  {
   "cell_type": "code",
   "execution_count": 14,
   "metadata": {},
   "outputs": [
    {
     "data": {
      "text/plain": [
       "0.7507185185185187"
      ]
     },
     "execution_count": 14,
     "metadata": {},
     "output_type": "execute_result"
    }
   ],
   "source": [
    "def average_spam_confidence():\n",
    "    fhand=open(\"mbox-short.txt\")\n",
    "    count=0\n",
    "    y=0\n",
    "    for line in fhand:\n",
    "        line=line.rstrip()\n",
    "        if line.startswith(\"X-DSPAM-Confidence:\"):\n",
    "            count+=1\n",
    "            l=line.split(':')\n",
    "            y=y+float(l[1])\n",
    "    return(y/count)\n",
    "        \n",
    "average_spam_confidence()"
   ]
  },
  {
   "cell_type": "code",
   "execution_count": 15,
   "metadata": {},
   "outputs": [
    {
     "data": {
      "text/plain": [
       "{'Sat': 1, 'Fri': 20, 'Thu': 6}"
      ]
     },
     "execution_count": 15,
     "metadata": {},
     "output_type": "execute_result"
    }
   ],
   "source": [
    "def find_email_sent_days():\n",
    "    d={}\n",
    "    count=0\n",
    "    fhand=open(\"mbox-short.txt\")\n",
    "    for i in fhand:\n",
    "        i=i.rstrip()\n",
    "        l=i.split()\n",
    "        if i.startswith(\"From\") and len(l)>2:\n",
    "            a=l[2]\n",
    "            d[a]=d.get(a,0)+1\n",
    "    return(d)\n",
    "            \n",
    "            \n",
    "                            \n",
    "            \n",
    "    \n",
    "    \n",
    "find_email_sent_days()"
   ]
  },
  {
   "cell_type": "code",
   "execution_count": 16,
   "metadata": {},
   "outputs": [
    {
     "data": {
      "text/plain": [
       "{'stephen.marquard@uct.ac.za': 2,\n",
       " 'louis@media.berkeley.edu': 3,\n",
       " 'zqian@umich.edu': 4,\n",
       " 'rjlowe@iupui.edu': 2,\n",
       " 'cwen@iupui.edu': 5,\n",
       " 'gsilver@umich.edu': 3,\n",
       " 'wagnermr@iupui.edu': 1,\n",
       " 'antranig@caret.cam.ac.uk': 1,\n",
       " 'gopal.ramasammycook@gmail.com': 1,\n",
       " 'david.horwitz@uct.ac.za': 4,\n",
       " 'ray@media.berkeley.edu': 1}"
      ]
     },
     "execution_count": 16,
     "metadata": {},
     "output_type": "execute_result"
    }
   ],
   "source": [
    "def count_message_from_email():\n",
    "    d={}\n",
    "    fhand=open(\"mbox-short.txt\")\n",
    "    for line in fhand:\n",
    "        line=line.rstrip()\n",
    "        if line.startswith(\"From:\"):\n",
    "            line=line.split()\n",
    "            a=line[1]\n",
    "            d[a]=d.get(a,0)+1\n",
    "    return(d)\n",
    "count_message_from_email()"
   ]
  },
  {
   "cell_type": "code",
   "execution_count": 17,
   "metadata": {},
   "outputs": [
    {
     "data": {
      "text/plain": [
       "{'uct.ac.za': 6,\n",
       " 'media.berkeley.edu': 4,\n",
       " 'umich.edu': 7,\n",
       " 'iupui.edu': 8,\n",
       " 'caret.cam.ac.uk': 1,\n",
       " 'gmail.com': 1}"
      ]
     },
     "execution_count": 17,
     "metadata": {},
     "output_type": "execute_result"
    }
   ],
   "source": [
    "def count_message_from_domain():\n",
    "    a=[]\n",
    "    d={}\n",
    "    fhand=open(\"mbox-short.txt\")\n",
    "    for line in fhand:\n",
    "        line=line.rstrip()\n",
    "        if line.startswith(\"From: \"):\n",
    "            line=line.split(\"@\")\n",
    "            a=line[1]\n",
    "            d[a]=d.get(a,0)+1\n",
    "    return(d)\n",
    "            \n",
    "count_message_from_domain()"
   ]
  },
  {
   "cell_type": "code",
   "execution_count": null,
   "metadata": {},
   "outputs": [],
   "source": []
  },
  {
   "cell_type": "code",
   "execution_count": null,
   "metadata": {},
   "outputs": [],
   "source": []
  },
  {
   "cell_type": "code",
   "execution_count": null,
   "metadata": {},
   "outputs": [],
   "source": []
  },
  {
   "cell_type": "code",
   "execution_count": null,
   "metadata": {},
   "outputs": [],
   "source": []
  },
  {
   "cell_type": "code",
   "execution_count": null,
   "metadata": {},
   "outputs": [],
   "source": []
  },
  {
   "cell_type": "code",
   "execution_count": null,
   "metadata": {},
   "outputs": [],
   "source": []
  },
  {
   "cell_type": "code",
   "execution_count": null,
   "metadata": {},
   "outputs": [],
   "source": []
  }
 ],
 "metadata": {
  "kernelspec": {
   "display_name": "Python 3",
   "language": "python",
   "name": "python3"
  },
  "language_info": {
   "codemirror_mode": {
    "name": "ipython",
    "version": 3
   },
   "file_extension": ".py",
   "mimetype": "text/x-python",
   "name": "python",
   "nbconvert_exporter": "python",
   "pygments_lexer": "ipython3",
   "version": "3.7.6"
  }
 },
 "nbformat": 4,
 "nbformat_minor": 4
}
